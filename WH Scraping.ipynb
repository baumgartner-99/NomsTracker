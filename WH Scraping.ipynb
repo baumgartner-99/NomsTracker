{
 "cells": [
  {
   "cell_type": "code",
   "execution_count": 77,
   "metadata": {},
   "outputs": [],
   "source": [
    "import requests\n",
    "import time\n",
    "from requests import get\n",
    "from bs4 import BeautifulSoup\n",
    "from bs4 import SoupStrainer"
   ]
  },
  {
   "cell_type": "code",
   "execution_count": 54,
   "metadata": {},
   "outputs": [],
   "source": [
    "page1 = requests.get('https://www.whitehouse.gov/presidential-actions/president-donald-j-trump-announces-intent-nominate-personnel-key-administration-posts-55/')"
   ]
  },
  {
   "cell_type": "code",
   "execution_count": 55,
   "metadata": {},
   "outputs": [],
   "source": [
    "soup2 = BeautifulSoup(page1.content, 'html.parser')"
   ]
  },
  {
   "cell_type": "code",
   "execution_count": 56,
   "metadata": {},
   "outputs": [],
   "source": [
    "html = soup2.find(\"div\", {\"class\": \"page-content\"})\n",
    "ptags = list(html.find_all(\"p\"))"
   ]
  },
  {
   "cell_type": "markdown",
   "metadata": {},
   "source": [
    "### define func to get urls"
   ]
  },
  {
   "cell_type": "code",
   "execution_count": 136,
   "metadata": {},
   "outputs": [
    {
     "ename": "SyntaxError",
     "evalue": "invalid syntax (<ipython-input-136-315d989321f3>, line 10)",
     "output_type": "error",
     "traceback": [
      "\u001b[0;36m  File \u001b[0;32m\"<ipython-input-136-315d989321f3>\"\u001b[0;36m, line \u001b[0;32m10\u001b[0m\n\u001b[0;31m    if ptags_in_noms == 'Nominations & Appointments':\u001b[0m\n\u001b[0m                                                    ^\u001b[0m\n\u001b[0;31mSyntaxError\u001b[0m\u001b[0;31m:\u001b[0m invalid syntax\n"
     ]
    }
   ],
   "source": [
    "def get_Urls(url):\n",
    "    raw_html = requests.get(url)\n",
    "    soup = BeautifulSoup(raw_html.content, 'html.parser')\n",
    "    h2s = soup.find_all(\"h2\")\n",
    "    NomsOnly = soup.find(\"div\", {\"class\": \"presidential-action__content\"})\n",
    "    ptags_in_noms = NomsOnly.find(\"p\")\n",
    "    link = []\n",
    "    for h2 in h2s:\n",
    "        link.append(h2.find(\"a\", href=True)\n",
    "    if ptags_in_noms == 'Nominations & Appointments':\n",
    "        print(ptags_in_noms)\n",
    "    if link ==[]:\n",
    "        print(soup)\n",
    "    return link"
   ]
  },
  {
   "cell_type": "code",
   "execution_count": 149,
   "metadata": {},
   "outputs": [
    {
     "name": "stdout",
     "output_type": "stream",
     "text": [
      "None\n"
     ]
    }
   ],
   "source": [
    "raw_html = requests.get(\"https://www.whitehouse.gov/presidential-actions/\")\n",
    "soup = BeautifulSoup(raw_html.content, 'html.parser')\n",
    "\n",
    "NomsOnly = soup.find(\"div\", {\"class\": \"presidential_action__content\"})\n",
    "NomsOnlyList = []\n",
    "for noms in NomsOnlyList:\n",
    "    NomsOnlyList.append(div.find(\"p\"))\n",
    "#ptags_in_noms = NomsOnly.find(\"p\")\n",
    "#if ptags_in_noms == 'Nominations & Appointments':\n",
    "   # print(ptags_in_noms)\n",
    "print(NomsOnly)"
   ]
  },
  {
   "cell_type": "code",
   "execution_count": 135,
   "metadata": {},
   "outputs": [
    {
     "name": "stdout",
     "output_type": "stream",
     "text": [
      "<p class=\"presidential-action__type\">\n",
      "\t\t\t\tNominations &amp; Appointments\t\t\t</p>\n"
     ]
    }
   ],
   "source": [
    "print(ptags_in_noms)"
   ]
  },
  {
   "cell_type": "markdown",
   "metadata": {},
   "source": [
    "### def function to parse a page"
   ]
  },
  {
   "cell_type": "code",
   "execution_count": 42,
   "metadata": {},
   "outputs": [],
   "source": [
    "def parsePage(url):\n",
    "    page = requests.get(url)\n",
    "    soup = BeautifulSoup(page.content, 'html.parser')\n",
    "    html = soup.find(\"div\", {\"class\": \"page-content\"})\n",
    "    ptags = list(html.find_all(\"p\"))\n",
    "    str_ptags = []\n",
    "    for tag in ptags:\n",
    "        str_ptags.append(str(ptags))\n",
    "    return str_ptags"
   ]
  },
  {
   "cell_type": "markdown",
   "metadata": {},
   "source": [
    "### get the number of pages"
   ]
  },
  {
   "cell_type": "code",
   "execution_count": 43,
   "metadata": {},
   "outputs": [
    {
     "ename": "AttributeError",
     "evalue": "'NoneType' object has no attribute 'find_all'",
     "output_type": "error",
     "traceback": [
      "\u001b[0;31m---------------------------------------------------------------------------\u001b[0m",
      "\u001b[0;31mAttributeError\u001b[0m                            Traceback (most recent call last)",
      "\u001b[0;32m<ipython-input-43-d0e281cd228d>\u001b[0m in \u001b[0;36m<module>\u001b[0;34m()\u001b[0m\n\u001b[1;32m      3\u001b[0m \u001b[0mpageNum\u001b[0m \u001b[0;34m=\u001b[0m \u001b[0msoup3\u001b[0m\u001b[0;34m.\u001b[0m\u001b[0mfind\u001b[0m\u001b[0;34m(\u001b[0m\u001b[0;34m\"div\"\u001b[0m\u001b[0;34m,\u001b[0m \u001b[0;34m{\u001b[0m\u001b[0;34m\"class\"\u001b[0m\u001b[0;34m:\u001b[0m \u001b[0;34m\"pagination\"\u001b[0m\u001b[0;34m}\u001b[0m\u001b[0;34m)\u001b[0m\u001b[0;34m\u001b[0m\u001b[0m\n\u001b[1;32m      4\u001b[0m \u001b[0mpageList\u001b[0m \u001b[0;34m=\u001b[0m \u001b[0;34m[\u001b[0m\u001b[0;34m]\u001b[0m\u001b[0;34m\u001b[0m\u001b[0m\n\u001b[0;32m----> 5\u001b[0;31m \u001b[0;32mfor\u001b[0m \u001b[0matags\u001b[0m \u001b[0;32min\u001b[0m \u001b[0mpageNum\u001b[0m\u001b[0;34m.\u001b[0m\u001b[0mfind_all\u001b[0m\u001b[0;34m(\u001b[0m\u001b[0;34m\"a\"\u001b[0m\u001b[0;34m,\u001b[0m \u001b[0mclass_\u001b[0m\u001b[0;34m=\u001b[0m\u001b[0;34m[\u001b[0m\u001b[0;34m'page-numbers'\u001b[0m\u001b[0;34m]\u001b[0m\u001b[0;34m)\u001b[0m\u001b[0;34m:\u001b[0m\u001b[0;34m\u001b[0m\u001b[0m\n\u001b[0m\u001b[1;32m      6\u001b[0m     \u001b[0mpageList\u001b[0m\u001b[0;34m.\u001b[0m\u001b[0mappend\u001b[0m\u001b[0;34m(\u001b[0m\u001b[0mstr\u001b[0m\u001b[0;34m(\u001b[0m\u001b[0matags\u001b[0m\u001b[0;34m.\u001b[0m\u001b[0mget_text\u001b[0m\u001b[0;34m(\u001b[0m\u001b[0;34m)\u001b[0m\u001b[0;34m)\u001b[0m\u001b[0;34m)\u001b[0m\u001b[0;34m\u001b[0m\u001b[0m\n\u001b[1;32m      7\u001b[0m \u001b[0;34m\u001b[0m\u001b[0m\n",
      "\u001b[0;31mAttributeError\u001b[0m: 'NoneType' object has no attribute 'find_all'"
     ]
    }
   ],
   "source": [
    "first_list = requests.get('https://www.whitehouse.gov/presidential-actions/').text\n",
    "soup3 = BeautifulSoup(first_list, 'html.parser')\n",
    "pageNum = soup3.find(\"div\", {\"class\": \"pagination\"})\n",
    "pageList = []\n",
    "for atags in pageNum.find_all(\"a\", class_=['page-numbers']):\n",
    "    pageList.append(str(atags.get_text()))\n",
    "    \n",
    "firstList = pageList[0]\n",
    "varList = pageList[-1]\n"
   ]
  },
  {
   "cell_type": "markdown",
   "metadata": {},
   "source": [
    "### scrape through all the lists of urls pages"
   ]
  },
  {
   "cell_type": "code",
   "execution_count": null,
   "metadata": {
    "scrolled": true
   },
   "outputs": [],
   "source": [
    "nominations_urls = []\n",
    "\n",
    "# can put in int(varList) +1 for end of range if want all pages, but that's returning 404 err starting on pg 7\n",
    "\n",
    "for index in range(1, 6):\n",
    "    url = 'https://www.whitehouse.gov/presidential-actions/page/' + str(index)\n",
    "    print(url)\n",
    "    list_of_urls = get_Urls(url + str(index))\n",
    "    nominations_urls = nominations_urls + list_of_urls\n",
    "    time.sleep(3)\n"
   ]
  },
  {
   "cell_type": "markdown",
   "metadata": {},
   "source": [
    "### go through noms urls and get the p tags"
   ]
  },
  {
   "cell_type": "code",
   "execution_count": null,
   "metadata": {
    "scrolled": true
   },
   "outputs": [],
   "source": [
    "all_noms_texts = []\n",
    "\n",
    "for url in nominations_urls:\n",
    "    print(url.text)\n",
    "    ptags = parsePage(url[\"href\"])\n",
    "    d = {}\n",
    "    d[\"hed\"] = url.text\n",
    "    d[\"html\"] = \"\".join(ptags)[1:-1]\n",
    "    all_noms_texts.append(d)\n",
    "    time.sleep(3)\n",
    "    \n",
    "#     trying to get list into string so it can be read as html"
   ]
  },
  {
   "cell_type": "code",
   "execution_count": null,
   "metadata": {},
   "outputs": [],
   "source": [
    "all_noms_texts[-1]"
   ]
  },
  {
   "cell_type": "code",
   "execution_count": null,
   "metadata": {},
   "outputs": [],
   "source": [
    "with open(\"NominationAnnouncements.json\", \"w\") as ofile:\n",
    "    ofile.write(str(all_noms_texts))\n",
    "ofile.close()"
   ]
  },
  {
   "cell_type": "code",
   "execution_count": null,
   "metadata": {},
   "outputs": [],
   "source": []
  }
 ],
 "metadata": {
  "kernelspec": {
   "display_name": "Python 3",
   "language": "python",
   "name": "python3"
  },
  "language_info": {
   "codemirror_mode": {
    "name": "ipython",
    "version": 3
   },
   "file_extension": ".py",
   "mimetype": "text/x-python",
   "name": "python",
   "nbconvert_exporter": "python",
   "pygments_lexer": "ipython3",
   "version": "3.6.5"
  }
 },
 "nbformat": 4,
 "nbformat_minor": 2
}
