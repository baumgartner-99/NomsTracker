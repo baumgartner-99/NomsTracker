{
 "cells": [
  {
   "cell_type": "code",
   "execution_count": 124,
   "metadata": {},
   "outputs": [],
   "source": [
    "import requests\n",
    "import time\n",
    "from requests import get\n",
    "from bs4 import BeautifulSoup"
   ]
  },
  {
   "cell_type": "code",
   "execution_count": 125,
   "metadata": {},
   "outputs": [],
   "source": [
    "page1 = requests.get('https://www.whitehouse.gov/presidential-actions/president-donald-j-trump-announces-intent-nominate-personnel-key-administration-posts-55/')"
   ]
  },
  {
   "cell_type": "code",
   "execution_count": 126,
   "metadata": {},
   "outputs": [],
   "source": [
    "soup2 = BeautifulSoup(page1.content, 'html.parser')"
   ]
  },
  {
   "cell_type": "code",
   "execution_count": 127,
   "metadata": {},
   "outputs": [],
   "source": [
    "html = soup2.find(\"div\", {\"class\": \"page-content\"})\n",
    "ptags = list(html.find_all(\"p\"))"
   ]
  },
  {
   "cell_type": "markdown",
   "metadata": {},
   "source": [
    "### define func to get urls"
   ]
  },
  {
   "cell_type": "code",
   "execution_count": 133,
   "metadata": {},
   "outputs": [],
   "source": [
    "def get_Urls(url):\n",
    "    raw_html = requests.get(url)\n",
    "    soup = BeautifulSoup(raw_html.content, 'html.parser')\n",
    "    h2s = soup.find_all(\"h2\")\n",
    "    link = []\n",
    "    for h2 in h2s:\n",
    "        link.append(h2.find(\"a\", href=True))\n",
    "    if link == []: \n",
    "        print(soup)\n",
    "    return link"
   ]
  },
  {
   "cell_type": "markdown",
   "metadata": {},
   "source": [
    "### def function to parse a page"
   ]
  },
  {
   "cell_type": "code",
   "execution_count": 152,
   "metadata": {},
   "outputs": [],
   "source": [
    "def parsePage(url):\n",
    "    page = requests.get(url)\n",
    "    soup = BeautifulSoup(page.content, 'html.parser')\n",
    "    html = soup.find(\"div\", {\"class\": \"page-content\"})\n",
    "    ptags = list(html.find_all(\"p\"))\n",
    "    str_ptags = []\n",
    "    for tag in ptags:\n",
    "        str_ptags.append(str(ptags))\n",
    "    return str_ptags"
   ]
  },
  {
   "cell_type": "markdown",
   "metadata": {},
   "source": [
    "### get the number of pages"
   ]
  },
  {
   "cell_type": "code",
   "execution_count": 130,
   "metadata": {},
   "outputs": [],
   "source": [
    "first_list = requests.get('https://www.whitehouse.gov/presidential-actions/').text\n",
    "soup3 = BeautifulSoup(first_list, 'html.parser')\n",
    "pageNum = soup3.find(\"div\", {\"class\": \"pagination\"})\n",
    "pageList = []\n",
    "for atags in pageNum.find_all(\"a\", class_=['page-numbers']):\n",
    "    pageList.append(str(atags.get_text()))\n",
    "    \n",
    "firstList = pageList[0]\n",
    "varList = pageList[-1]\n"
   ]
  },
  {
   "cell_type": "markdown",
   "metadata": {},
   "source": [
    "### scrape through all the lists of urls pages"
   ]
  },
  {
   "cell_type": "code",
   "execution_count": 138,
   "metadata": {
    "scrolled": true
   },
   "outputs": [
    {
     "name": "stdout",
     "output_type": "stream",
     "text": [
      "https://www.whitehouse.gov/presidential-actions/page/1\n",
      "https://www.whitehouse.gov/presidential-actions/page/2\n",
      "https://www.whitehouse.gov/presidential-actions/page/3\n",
      "https://www.whitehouse.gov/presidential-actions/page/4\n",
      "https://www.whitehouse.gov/presidential-actions/page/5\n",
      "[<a href=\"https://www.whitehouse.gov/presidential-actions/president-donald-j-trump-proclaims-may-15-2018-peace-officers-memorial-day-may-13-may-19-2018-police-week/\">President Donald J. Trump Proclaims May 15, 2018, as Peace Officers Memorial Day and May 13 through May 19, 2018, as Police Week</a>, <a href=\"https://www.whitehouse.gov/presidential-actions/president-donald-j-trump-proclaims-may-13-may-19-2018-national-transportation-week/\">President Donald J. Trump Proclaims May 13 through May 19, 2018, as National Transportation Week</a>, <a href=\"https://www.whitehouse.gov/presidential-actions/president-donald-j-trump-announces-intent-appoint-personnel-key-administration-post-3/\">President Donald J. Trump Announces Intent to Appoint Personnel to Key Administration Post</a>, <a href=\"https://www.whitehouse.gov/presidential-actions/president-donald-j-trump-proclaims-may-13-2018-mothers-day/\">President Donald J. Trump Proclaims May 13, 2018, as Mother’s Day</a>, <a href=\"https://www.whitehouse.gov/presidential-actions/president-donald-j-trump-announces-intent-nominate-appoint-personnel-key-administration-posts-8/\">President Donald J. Trump Announces Intent to Nominate and Appoint Personnel to Key Administration Posts</a>, <a href=\"https://www.whitehouse.gov/presidential-actions/president-donald-j-trump-proclaims-may-11-2018-military-spouse-day/\">President Donald J. Trump Proclaims May 11, 2018, as Military Spouse Day</a>, <a href=\"https://www.whitehouse.gov/presidential-actions/five-nominations-two-withdrawals-sent-senate-today/\">Five Nominations and Two Withdrawals Sent to the Senate Today</a>, <a href=\"https://www.whitehouse.gov/presidential-actions/president-donald-j-trump-announces-fourteenth-wave-judicial-nominees-thirteenth-wave-united-states-attorney-nominees-eighth-wave-united-states-marshal-nominees/\">President Donald J. Trump Announces Fourteenth Wave of Judicial Nominees, Thirteenth Wave of United States Attorney Nominees, and Eighth Wave of United States Marshal Nominees</a>, <a href=\"https://www.whitehouse.gov/presidential-actions/executive-order-enhancing-noncompetitive-civil-service-appointments-military-spouses/\">Executive Order Enhancing Noncompetitive Civil Service Appointments of Military Spouses</a>, <a href=\"https://www.whitehouse.gov/presidential-actions/ceasing-u-s-participation-jcpoa-taking-additional-action-counter-irans-malign-influence-deny-iran-paths-nuclear-weapon/\">Ceasing U.S. Participation in the JCPOA and Taking Additional Action to Counter Iran’s Malign Influence and Deny Iran All Paths to a Nuclear Weapon</a>, <a href=\"https://www.whitehouse.gov/presidential-actions/president-donald-j-trump-announces-key-additions-administration-31/\">President Donald J. Trump Announces Key Additions to His Administration</a>, <a href=\"https://www.whitehouse.gov/presidential-actions/federal-interagency-council-crime-prevention-improving-reentry/\">Federal Interagency Council on Crime Prevention and Improving Reentry</a>, <a href=\"https://www.whitehouse.gov/presidential-actions/seven-nominations-sent-senate-today/\">Seven Nominations Sent to the Senate Today</a>, <a href=\"https://www.whitehouse.gov/presidential-actions/president-donald-j-trump-announces-fifth-wave-united-states-marshal-nominees/\">President Donald J. Trump Announces Fifth Wave of United States Marshal Nominees</a>, <a href=\"https://www.whitehouse.gov/presidential-actions/president-donald-j-trump-announces-key-additions-administration-30/\">President Donald J. Trump Announces Key Additions to his Administration</a>, <a href=\"https://www.whitehouse.gov/presidential-actions/president-donald-j-trump-proclaims-march-4-march-10-2018-national-consumer-protection-week/\">President Donald J. Trump Proclaims March 4 through March 10, 2018, as National Consumer Protection Week</a>, <a href=\"https://www.whitehouse.gov/presidential-actions/president-donald-j-trump-announces-intent-nominate-personnel-key-administration-posts-38/\">President Donald J. Trump Announces Intent to Nominate Personnel to Key Administration Posts</a>, <a href=\"https://www.whitehouse.gov/presidential-actions/executive-order-presidents-continuation-national-emergency-respect-venezuela/\">Executive Order on the President’s Continuation of the National Emergency with Respect to Venezuela</a>, <a href=\"https://www.whitehouse.gov/presidential-actions/executive-order-presidents-continuation-national-emergency-respect-ukraine/\">Executive Order on the President’s Continuation of the National Emergency with Respect to Ukraine</a>, <a href=\"https://www.whitehouse.gov/presidential-actions/2018-amendments-manual-courts-martial-united-states/\">2018 Amendments to the Manual for Courts-Martial, United States</a>, <a href=\"https://www.whitehouse.gov/presidential-actions/president-donald-j-trump-announces-key-additions-administration-21/\">President Donald J. Trump Announces Key Additions to his Administration</a>, <a href=\"https://www.whitehouse.gov/presidential-actions/presidential-proclamation-modifying-bears-ears-national-monument/\">Presidential Proclamation Modifying the Bears Ears National Monument</a>, <a href=\"https://www.whitehouse.gov/presidential-actions/presidential-proclamation-modifying-grand-staircase-escalante-national-monument/\">Presidential Proclamation Modifying the Grand Staircase-Escalante National Monument</a>, <a href=\"https://www.whitehouse.gov/presidential-actions/nine-nominations-sent-senate-today-5/\">Nine Nominations Sent to the Senate Today</a>, <a href=\"https://www.whitehouse.gov/presidential-actions/twelve-nominations-sent-senate-today-2/\">Twelve Nominations Sent to the Senate Today</a>, <a href=\"https://www.whitehouse.gov/presidential-actions/president-donald-j-trump-announces-intent-nominate-jelena-mcwilliams-ohio-federal-deposit-insurance-corporation/\">President Donald J. Trump Announces Intent to Nominate Jelena McWilliams of Ohio to the Federal Deposit Insurance Corporation</a>, <a href=\"https://www.whitehouse.gov/presidential-actions/president-donald-j-trump-proclaims-december-2017-national-impaired-driving-prevention-month/\">President Donald J. Trump Proclaims December 2017 as National Impaired Driving Prevention Month</a>, <a href=\"https://www.whitehouse.gov/presidential-actions/president-donald-j-trump-proclaims-december-1-2017-world-aids-day/\">President Donald J. Trump Proclaims December 1, 2017, as World AIDS Day</a>, <a href=\"https://www.whitehouse.gov/presidential-actions/president-donald-j-trump-announces-intent-nominate-personnel-key-administration-posts-30/\">President Donald J. Trump Announces Intent to Nominate Personnel to Key Administration Posts</a>, <a href=\"https://www.whitehouse.gov/presidential-actions/two-nominations-sent-senate-today-3/\">Two Nominations Sent to the Senate Today</a>, <a href=\"https://www.whitehouse.gov/presidential-actions/president-donald-j-trump-proclaims-september-15-october-15-2017-national-hispanic-heritage-month/\">President Donald J. Trump Proclaims September 15 through October 15, 2017, as National Hispanic Heritage Month</a>, <a href=\"https://www.whitehouse.gov/presidential-actions/president-donald-j-trump-proclaims-september-15-2017-national-pow-mia-recognition-day/\">President Donald J. Trump Proclaims September 15, 2017, as National POW/MIA Recognition Day</a>, <a href=\"https://www.whitehouse.gov/presidential-actions/order-regarding-proposed-acquisition-lattice-semiconductor-corporation-china-venture-capital-fund-corporation-limited/\">Order Regarding the Proposed Acquisition of Lattice Semiconductor Corporation by China Venture Capital Fund Corporation Limited</a>, <a href=\"https://www.whitehouse.gov/presidential-actions/president-donald-j-trump-announces-white-house-appointments-2/\">President Donald J. Trump Announces White House Appointments</a>, <a href=\"https://www.whitehouse.gov/presidential-actions/president-donald-j-trump-announces-intent-nominate-personnel-key-administration-posts-10/\">President Donald J. Trump Announces Intent to Nominate Personnel to Key Administration Posts</a>, <a href=\"https://www.whitehouse.gov/presidential-actions/six-nominations-sent-senate-today-2/\">Six Nominations Sent to the Senate Today</a>, <a href=\"https://www.whitehouse.gov/presidential-actions/president-donald-j-trump-announces-first-wave-united-states-marshal-nominations/\">President Donald J. Trump Announces First Wave of United States Marshal Nominations</a>, <a href=\"https://www.whitehouse.gov/presidential-actions/presidential-memorandum-secretary-state-secretary-treasury/\">Presidential Memorandum for the Secretary of State and the Secretary of the Treasury</a>, <a href=\"https://www.whitehouse.gov/presidential-actions/president-donald-j-trump-proclaims-september-11-2017-patriot-day/\">President Donald J. Trump Proclaims September 11, 2017, as Patriot Day</a>, <a href=\"https://www.whitehouse.gov/presidential-actions/president-donald-j-trump-proclaims-friday-september-8-2017-sunday-september-10-2017-national-days-prayer-remembrance/\">President Donald J. Trump Proclaims Friday, September 8, 2017, through Sunday, September 10, 2017, as National Days of Prayer and Remembrance</a>, <a href=\"https://www.whitehouse.gov/presidential-actions/president-donald-j-trump-announces-intent-nominate-personnel-key-administration-posts-29/\">President Donald J. Trump Announces Intent to Nominate Personnel to Key Administration Posts</a>, <a href=\"https://www.whitehouse.gov/presidential-actions/president-donald-j-trump-announces-intent-nominate-personnel-key-administration-posts-28/\">President Donald J. Trump Announces Intent to Nominate Personnel to Key Administration Posts</a>, <a href=\"https://www.whitehouse.gov/presidential-actions/one-nomination-sent-senate-today-3/\">One Nomination Sent to the Senate Today</a>, <a href=\"https://www.whitehouse.gov/presidential-actions/president-donald-j-trump-proclaims-third-saturday-may-armed-forces-day/\">President Donald J. Trump Proclaims the Third Saturday of Each May as Armed Forces Day</a>, <a href=\"https://www.whitehouse.gov/presidential-actions/president-donald-j-trump-proclaims-may-22-2017-national-maritime-day/\">President Donald J. Trump Proclaims May 22, 2017, as National Maritime Day</a>, <a href=\"https://www.whitehouse.gov/presidential-actions/president-donald-j-trump-proclaims-may-21-may-27-2017-national-safe-boating-week/\">President Donald J. Trump Proclaims May 21 through May 27, 2017, as National Safe Boating Week</a>, <a href=\"https://www.whitehouse.gov/presidential-actions/president-donald-j-trump-proclaims-may-21-may-27-2017-emergency-medical-services-week/\">President Donald J. Trump Proclaims May 21 through May 27, 2017, as Emergency Medical Services Week</a>, <a href=\"https://www.whitehouse.gov/presidential-actions/president-donald-j-trump-announces-key-additions-administration-20/\">President Donald J. Trump Announces Key Additions to his Administration</a>, <a href=\"https://www.whitehouse.gov/presidential-actions/president-donald-j-trump-announces-intent-nominate-kathleen-troia-k-t-mcfarland-united-states-ambassador-republic-singapore/\">President Donald J. Trump Announces Intent to Nominate Kathleen Troia (“K.T.”) McFarland to be the United States Ambassador to the Republic of Singapore</a>, <a href=\"https://www.whitehouse.gov/presidential-actions/three-nominations-sent-senate-today-3/\">Three Nominations Sent to the Senate Today</a>]\n"
     ]
    }
   ],
   "source": [
    "nominations_urls = []\n",
    "\n",
    "# can put in int(varList) +1 for end of range if want all pages, but that's returning 404 err starting on pg 7\n",
    "\n",
    "for index in range(1, 6):\n",
    "    url = 'https://www.whitehouse.gov/presidential-actions/page/' + str(index)\n",
    "    print(url)\n",
    "    list_of_urls = get_Urls(url + str(index))\n",
    "    nominations_urls = nominations_urls + list_of_urls\n",
    "    time.sleep(3)\n",
    "print(nominations_urls)"
   ]
  },
  {
   "cell_type": "markdown",
   "metadata": {},
   "source": [
    "### go through noms urls and get the p tags"
   ]
  },
  {
   "cell_type": "code",
   "execution_count": 168,
   "metadata": {
    "scrolled": true
   },
   "outputs": [
    {
     "name": "stdout",
     "output_type": "stream",
     "text": [
      "President Donald J. Trump Proclaims May 15, 2018, as Peace Officers Memorial Day and May 13 through May 19, 2018, as Police Week\n",
      "President Donald J. Trump Proclaims May 13 through May 19, 2018, as National Transportation Week\n",
      "President Donald J. Trump Announces Intent to Appoint Personnel to Key Administration Post\n",
      "President Donald J. Trump Proclaims May 13, 2018, as Mother’s Day\n",
      "President Donald J. Trump Announces Intent to Nominate and Appoint Personnel to Key Administration Posts\n",
      "President Donald J. Trump Proclaims May 11, 2018, as Military Spouse Day\n",
      "Five Nominations and Two Withdrawals Sent to the Senate Today\n",
      "President Donald J. Trump Announces Fourteenth Wave of Judicial Nominees, Thirteenth Wave of United States Attorney Nominees, and Eighth Wave of United States Marshal Nominees\n",
      "Executive Order Enhancing Noncompetitive Civil Service Appointments of Military Spouses\n",
      "Ceasing U.S. Participation in the JCPOA and Taking Additional Action to Counter Iran’s Malign Influence and Deny Iran All Paths to a Nuclear Weapon\n",
      "President Donald J. Trump Announces Key Additions to His Administration\n",
      "Federal Interagency Council on Crime Prevention and Improving Reentry\n",
      "Seven Nominations Sent to the Senate Today\n",
      "President Donald J. Trump Announces Fifth Wave of United States Marshal Nominees\n",
      "President Donald J. Trump Announces Key Additions to his Administration\n",
      "President Donald J. Trump Proclaims March 4 through March 10, 2018, as National Consumer Protection Week\n",
      "President Donald J. Trump Announces Intent to Nominate Personnel to Key Administration Posts\n",
      "Executive Order on the President’s Continuation of the National Emergency with Respect to Venezuela\n",
      "Executive Order on the President’s Continuation of the National Emergency with Respect to Ukraine\n",
      "2018 Amendments to the Manual for Courts-Martial, United States\n",
      "President Donald J. Trump Announces Key Additions to his Administration\n",
      "Presidential Proclamation Modifying the Bears Ears National Monument\n",
      "Presidential Proclamation Modifying the Grand Staircase-Escalante National Monument\n",
      "Nine Nominations Sent to the Senate Today\n",
      "Twelve Nominations Sent to the Senate Today\n",
      "President Donald J. Trump Announces Intent to Nominate Jelena McWilliams of Ohio to the Federal Deposit Insurance Corporation\n",
      "President Donald J. Trump Proclaims December 2017 as National Impaired Driving Prevention Month\n",
      "President Donald J. Trump Proclaims December 1, 2017, as World AIDS Day\n",
      "President Donald J. Trump Announces Intent to Nominate Personnel to Key Administration Posts\n",
      "Two Nominations Sent to the Senate Today\n",
      "President Donald J. Trump Proclaims September 15 through October 15, 2017, as National Hispanic Heritage Month\n",
      "President Donald J. Trump Proclaims September 15, 2017, as National POW/MIA Recognition Day\n",
      "Order Regarding the Proposed Acquisition of Lattice Semiconductor Corporation by China Venture Capital Fund Corporation Limited\n",
      "President Donald J. Trump Announces White House Appointments\n",
      "President Donald J. Trump Announces Intent to Nominate Personnel to Key Administration Posts\n",
      "Six Nominations Sent to the Senate Today\n",
      "President Donald J. Trump Announces First Wave of United States Marshal Nominations\n",
      "Presidential Memorandum for the Secretary of State and the Secretary of the Treasury\n",
      "President Donald J. Trump Proclaims September 11, 2017, as Patriot Day\n",
      "President Donald J. Trump Proclaims Friday, September 8, 2017, through Sunday, September 10, 2017, as National Days of Prayer and Remembrance\n",
      "President Donald J. Trump Announces Intent to Nominate Personnel to Key Administration Posts\n",
      "President Donald J. Trump Announces Intent to Nominate Personnel to Key Administration Posts\n",
      "One Nomination Sent to the Senate Today\n",
      "President Donald J. Trump Proclaims the Third Saturday of Each May as Armed Forces Day\n",
      "President Donald J. Trump Proclaims May 22, 2017, as National Maritime Day\n",
      "President Donald J. Trump Proclaims May 21 through May 27, 2017, as National Safe Boating Week\n",
      "President Donald J. Trump Proclaims May 21 through May 27, 2017, as Emergency Medical Services Week\n",
      "President Donald J. Trump Announces Key Additions to his Administration\n",
      "President Donald J. Trump Announces Intent to Nominate Kathleen Troia (“K.T.”) McFarland to be the United States Ambassador to the Republic of Singapore\n",
      "Three Nominations Sent to the Senate Today\n"
     ]
    }
   ],
   "source": [
    "all_noms_texts = []\n",
    "\n",
    "for url in nominations_urls:\n",
    "    print(url.text)\n",
    "    ptags = parsePage(url[\"href\"])\n",
    "    d = {}\n",
    "    d[\"hed\"] = url.text\n",
    "    d[\"html\"] = \"\".join(ptags)[1:-1]\n",
    "    all_noms_texts.append(d)\n",
    "    time.sleep(3)\n",
    "    \n",
    "#     trying to get list into string so it can be read as html"
   ]
  },
  {
   "cell_type": "code",
   "execution_count": 170,
   "metadata": {},
   "outputs": [
    {
     "data": {
      "text/plain": [
       "{'hed': 'Three Nominations Sent to the Senate Today',\n",
       " 'html': '<p>NOMINATIONS SENT TO THE SENATE:</p>, <p>Claire M. Grady, of Pennsylvania, to be Under Secretary for Management, Department of Homeland Security, vice Russell C. Deyo.</p>, <p>Neomi Rao, of the District of Columbia, to be Administrator of the Office of Information and Regulatory Affairs, Office of\\xa0Management and Budget, vice Howard A. Shelanski.</p>, <p>David J. Redl, of New York, to be Assistant Secretary of\\xa0Commerce for Communications and Information, vice Lawrence E.\\xa0Strickling.</p>][<p>NOMINATIONS SENT TO THE SENATE:</p>, <p>Claire M. Grady, of Pennsylvania, to be Under Secretary for Management, Department of Homeland Security, vice Russell C. Deyo.</p>, <p>Neomi Rao, of the District of Columbia, to be Administrator of the Office of Information and Regulatory Affairs, Office of\\xa0Management and Budget, vice Howard A. Shelanski.</p>, <p>David J. Redl, of New York, to be Assistant Secretary of\\xa0Commerce for Communications and Information, vice Lawrence E.\\xa0Strickling.</p>][<p>NOMINATIONS SENT TO THE SENATE:</p>, <p>Claire M. Grady, of Pennsylvania, to be Under Secretary for Management, Department of Homeland Security, vice Russell C. Deyo.</p>, <p>Neomi Rao, of the District of Columbia, to be Administrator of the Office of Information and Regulatory Affairs, Office of\\xa0Management and Budget, vice Howard A. Shelanski.</p>, <p>David J. Redl, of New York, to be Assistant Secretary of\\xa0Commerce for Communications and Information, vice Lawrence E.\\xa0Strickling.</p>][<p>NOMINATIONS SENT TO THE SENATE:</p>, <p>Claire M. Grady, of Pennsylvania, to be Under Secretary for Management, Department of Homeland Security, vice Russell C. Deyo.</p>, <p>Neomi Rao, of the District of Columbia, to be Administrator of the Office of Information and Regulatory Affairs, Office of\\xa0Management and Budget, vice Howard A. Shelanski.</p>, <p>David J. Redl, of New York, to be Assistant Secretary of\\xa0Commerce for Communications and Information, vice Lawrence E.\\xa0Strickling.</p>'}"
      ]
     },
     "execution_count": 170,
     "metadata": {},
     "output_type": "execute_result"
    }
   ],
   "source": [
    "all_noms_texts[-1]"
   ]
  },
  {
   "cell_type": "code",
   "execution_count": 173,
   "metadata": {},
   "outputs": [],
   "source": [
    "with open(\"NominationAnnouncements.json\", \"w\") as ofile:\n",
    "    ofile.write(str(all_noms_texts))\n",
    "ofile.close()"
   ]
  },
  {
   "cell_type": "code",
   "execution_count": null,
   "metadata": {},
   "outputs": [],
   "source": []
  }
 ],
 "metadata": {
  "kernelspec": {
   "display_name": "Python 3",
   "language": "python",
   "name": "python3"
  },
  "language_info": {
   "codemirror_mode": {
    "name": "ipython",
    "version": 3
   },
   "file_extension": ".py",
   "mimetype": "text/x-python",
   "name": "python",
   "nbconvert_exporter": "python",
   "pygments_lexer": "ipython3",
   "version": "3.6.5"
  }
 },
 "nbformat": 4,
 "nbformat_minor": 2
}
